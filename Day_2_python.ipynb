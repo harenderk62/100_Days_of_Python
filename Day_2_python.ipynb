{
  "nbformat": 4,
  "nbformat_minor": 0,
  "metadata": {
    "colab": {
      "name": "Day_2_python.ipynb",
      "provenance": [],
      "authorship_tag": "ABX9TyMTmJtVdNuYJT7Sh7SGZTa3",
      "include_colab_link": true
    },
    "kernelspec": {
      "name": "python3",
      "display_name": "Python 3"
    },
    "language_info": {
      "name": "python"
    }
  },
  "cells": [
    {
      "cell_type": "markdown",
      "metadata": {
        "id": "view-in-github",
        "colab_type": "text"
      },
      "source": [
        "<a href=\"https://colab.research.google.com/github/harenderk62/100_Days_of_Python/blob/main/Day_2_python.ipynb\" target=\"_parent\"><img src=\"https://colab.research.google.com/assets/colab-badge.svg\" alt=\"Open In Colab\"/></a>"
      ]
    },
    {
      "cell_type": "code",
      "metadata": {
        "colab": {
          "base_uri": "https://localhost:8080/"
        },
        "id": "RSAR-9efKQ0G",
        "outputId": "c7ea64ec-18cd-4f4b-faf6-cbf0418fbabf"
      },
      "source": [
        "#Data Types\n",
        "\n",
        "#string\n",
        "\n",
        "\"Hello\"\n",
        "\n",
        "print(\"Hello\"[1])\n",
        "\n",
        "print(\"Hello\"[-1])\n",
        "\n",
        "print(\"123\" + \"345\")"
      ],
      "execution_count": 4,
      "outputs": [
        {
          "output_type": "stream",
          "name": "stdout",
          "text": [
            "e\n",
            "o\n",
            "123345\n"
          ]
        }
      ]
    },
    {
      "cell_type": "code",
      "metadata": {
        "colab": {
          "base_uri": "https://localhost:8080/"
        },
        "id": "YrYHc3zCLrom",
        "outputId": "60d10d31-a659-4302-b358-5586b826c3c4"
      },
      "source": [
        "#integer\n",
        "\n",
        "print(123 +345)\n",
        "\n",
        "123_456_789"
      ],
      "execution_count": 6,
      "outputs": [
        {
          "output_type": "stream",
          "name": "stdout",
          "text": [
            "468\n"
          ]
        },
        {
          "output_type": "execute_result",
          "data": {
            "text/plain": [
              "123456789"
            ]
          },
          "metadata": {},
          "execution_count": 6
        }
      ]
    },
    {
      "cell_type": "code",
      "metadata": {
        "colab": {
          "base_uri": "https://localhost:8080/"
        },
        "id": "JdUd2tlbL9b4",
        "outputId": "4acb8fbc-12e7-433e-b1a7-b325025a5e51"
      },
      "source": [
        "#float\n",
        "\n",
        "3.14159"
      ],
      "execution_count": 8,
      "outputs": [
        {
          "output_type": "execute_result",
          "data": {
            "text/plain": [
              "3.14159"
            ]
          },
          "metadata": {},
          "execution_count": 8
        }
      ]
    },
    {
      "cell_type": "code",
      "metadata": {
        "colab": {
          "base_uri": "https://localhost:8080/"
        },
        "id": "EXavIJUIMBS2",
        "outputId": "1fae2c39-12c2-4a19-8861-70b2a335188d"
      },
      "source": [
        "#Boolean\n",
        "\n",
        "True\n",
        "False"
      ],
      "execution_count": 9,
      "outputs": [
        {
          "output_type": "execute_result",
          "data": {
            "text/plain": [
              "False"
            ]
          },
          "metadata": {},
          "execution_count": 9
        }
      ]
    },
    {
      "cell_type": "code",
      "metadata": {
        "colab": {
          "base_uri": "https://localhost:8080/"
        },
        "id": "Ho1a6875MFyz",
        "outputId": "e34997bf-7d0c-441e-eb75-62f110508957"
      },
      "source": [
        "# len(123) give error. it only works with strings\n",
        "type(123)\n",
        "type(\"Hello\")"
      ],
      "execution_count": 13,
      "outputs": [
        {
          "output_type": "execute_result",
          "data": {
            "text/plain": [
              "str"
            ]
          },
          "metadata": {},
          "execution_count": 13
        }
      ]
    },
    {
      "cell_type": "code",
      "metadata": {
        "colab": {
          "base_uri": "https://localhost:8080/"
        },
        "id": "0EYuc-CjND1w",
        "outputId": "df780a5a-118f-4e29-d723-a36b34eb98e1"
      },
      "source": [
        "# Type Casting\n",
        "\n",
        "num_char = len(input(\"What is your Name: \"))\n",
        "new_num_char = str(num_char)\n",
        "\n",
        "print(\"Your name has \" + new_num_char + \" Characters.\")"
      ],
      "execution_count": 14,
      "outputs": [
        {
          "output_type": "stream",
          "name": "stdout",
          "text": [
            "What is your Name: Ravi\n",
            "Your name has 4 Characters.\n"
          ]
        }
      ]
    },
    {
      "cell_type": "code",
      "metadata": {
        "colab": {
          "base_uri": "https://localhost:8080/"
        },
        "id": "65lG9nECNk2y",
        "outputId": "878151b9-66b3-4a8a-ad86-e0599253d3dc"
      },
      "source": [
        "a = str(1234)\n",
        "type(a)"
      ],
      "execution_count": 16,
      "outputs": [
        {
          "output_type": "execute_result",
          "data": {
            "text/plain": [
              "str"
            ]
          },
          "metadata": {},
          "execution_count": 16
        }
      ]
    },
    {
      "cell_type": "code",
      "metadata": {
        "colab": {
          "base_uri": "https://localhost:8080/"
        },
        "id": "v_vhLQ3HNxY0",
        "outputId": "ae65b55e-3ec3-40b6-d876-cdd08d4126a1"
      },
      "source": [
        "print(70+float(100.70))\n",
        "print(str(100)+ str(70))"
      ],
      "execution_count": 18,
      "outputs": [
        {
          "output_type": "stream",
          "name": "stdout",
          "text": [
            "170.7\n",
            "10070\n"
          ]
        }
      ]
    },
    {
      "cell_type": "code",
      "metadata": {
        "colab": {
          "base_uri": "https://localhost:8080/"
        },
        "id": "vFhZydVrN7ef",
        "outputId": "eb62e70c-1845-465a-a814-61aab3685a14"
      },
      "source": [
        "#Assignment \n",
        "#Print sum of Digits\n",
        "\n",
        "num = input(\"Type a two Digit number: \")\n",
        "\n",
        "num1 = int(num[0])\n",
        "num2 = int(num[1])\n",
        "sum = num1 + num2\n",
        "\n",
        "print(\"Sum of digits: \",sum)"
      ],
      "execution_count": 22,
      "outputs": [
        {
          "output_type": "stream",
          "name": "stdout",
          "text": [
            "Type a two Digit number: 56\n",
            "Sum of digits:  11\n"
          ]
        }
      ]
    },
    {
      "cell_type": "code",
      "metadata": {
        "colab": {
          "base_uri": "https://localhost:8080/"
        },
        "id": "NsAGyAgGPKn4",
        "outputId": "eaebc6e0-879f-4d80-e46b-750448ce3bc0"
      },
      "source": [
        "3 + 5 #add\n",
        "\n",
        "7 - 2 #subtract\n",
        "\n",
        "3 * 2 #multiplication\n",
        "\n",
        "6 / 3 #Division\n",
        "\n",
        "3**2 #3 power 2"
      ],
      "execution_count": 23,
      "outputs": [
        {
          "output_type": "execute_result",
          "data": {
            "text/plain": [
              "9"
            ]
          },
          "metadata": {},
          "execution_count": 23
        }
      ]
    },
    {
      "cell_type": "code",
      "metadata": {
        "colab": {
          "base_uri": "https://localhost:8080/"
        },
        "id": "VPmjH8yLQY-I",
        "outputId": "2978071c-4b75-4e61-859a-4a264b0087a3"
      },
      "source": [
        "#Assignment\n",
        "#BMI Calculator\n",
        "\n",
        "height = input(\"Enter you height in m: \")\n",
        "weight = input(\"Enter your Weight in Kg: \")\n",
        "\n",
        "BMI = int(weight) / (float(height)**2)\n",
        "\n",
        "print(\"Your BMI is \", int(BMI))"
      ],
      "execution_count": 27,
      "outputs": [
        {
          "output_type": "stream",
          "name": "stdout",
          "text": [
            "Enter you height in m: 1.7\n",
            "Enter your Weight in Kg: 74\n",
            "Your BMI is  25\n"
          ]
        }
      ]
    },
    {
      "cell_type": "code",
      "metadata": {
        "colab": {
          "base_uri": "https://localhost:8080/"
        },
        "id": "j2pxt4YpRIMB",
        "outputId": "e0edd7b0-f993-43b5-ce7b-6f9f39e5751b"
      },
      "source": [
        "print(int(8/3)) #choped off after decimal\n",
        "\n",
        "print(round(8/3)) #round off\n",
        "\n",
        "print(round(8/3,2))\n",
        "\n",
        "print(8//3)"
      ],
      "execution_count": 31,
      "outputs": [
        {
          "output_type": "stream",
          "name": "stdout",
          "text": [
            "2\n",
            "3\n",
            "2.67\n",
            "2\n"
          ]
        }
      ]
    },
    {
      "cell_type": "code",
      "metadata": {
        "colab": {
          "base_uri": "https://localhost:8080/"
        },
        "id": "WdDzg-hjUgfd",
        "outputId": "0071801f-57d0-4abc-df1c-573c023647c4"
      },
      "source": [
        " #f-string\n",
        " score = 0\n",
        " height = 1.8\n",
        " isWinning = True\n",
        "\n",
        " print(f\"Your score is {score} and height is {height} and you winning is {isWinning}\")"
      ],
      "execution_count": 35,
      "outputs": [
        {
          "output_type": "stream",
          "name": "stdout",
          "text": [
            "Your score is 0 and height is 1.8 and you winning is True\n"
          ]
        }
      ]
    },
    {
      "cell_type": "code",
      "metadata": {
        "colab": {
          "base_uri": "https://localhost:8080/"
        },
        "id": "fWOQUwXgVQrk",
        "outputId": "cca8cd11-93b8-48b6-a3d8-900fc8f3a5c9"
      },
      "source": [
        "#Assignment\n",
        "#your life in weeks, days and months\n",
        "\n",
        "age = input(\"What is your current age? \")\n",
        "\n",
        "age_in_days = int(age) *365\n",
        "age_in_weeks = int(age) *52\n",
        "age_in_months = int(age) * 12\n",
        "\n",
        "print(f\"Your age in day: {age_in_days} and your age in weeks: {age_in_weeks} and your age in months: {age_in_months}\")"
      ],
      "execution_count": 39,
      "outputs": [
        {
          "output_type": "stream",
          "name": "stdout",
          "text": [
            "What is your current age? 22\n",
            "Your age in day: 8030 and your age in weeks: 1144 and your age in months: 264\n"
          ]
        }
      ]
    },
    {
      "cell_type": "code",
      "metadata": {
        "colab": {
          "base_uri": "https://localhost:8080/"
        },
        "id": "tDBsBtmsXFTb",
        "outputId": "773d51da-fe6d-4db6-c0b7-a70ce1c2db49"
      },
      "source": [
        "#Day 2 Project\n",
        "#Tip Calculator\n",
        "\n",
        "print(\"Welcome to the Tip Calculator.\")\n",
        "amount = float(input(\"What was the total bill? \"))\n",
        "tip_percentage = int(input(\"What percentage tip would you like to give? 10% 12% or 15% \"))\n",
        "\n",
        "total_people = int(input(\"How many people to split the bill? \"))\n",
        "\n",
        "each_person_amount = (amount + amount*(tip_percentage)/100)/total_people\n",
        "bill_per_person = round(each_person_amount,2)\n",
        "\n",
        "bill_per_person = \"{:.2f}\".format(each_person_amount) #another way to round off\n",
        "\n",
        "message = f\"Each person should pay: {bill_per_person}\"\n",
        "print(message)"
      ],
      "execution_count": 47,
      "outputs": [
        {
          "output_type": "stream",
          "name": "stdout",
          "text": [
            "Welcome to the Tip Calculator.\n",
            "What was the total bill? 150\n",
            "What percentage tip would you like to give? 10% 12% or 15% 12\n",
            "How many people to split the bill? 5\n",
            "Each person should pay: 33.60\n"
          ]
        }
      ]
    },
    {
      "cell_type": "code",
      "metadata": {
        "id": "EiK5ZBLnZLHI"
      },
      "source": [
        ""
      ],
      "execution_count": null,
      "outputs": []
    }
  ]
}