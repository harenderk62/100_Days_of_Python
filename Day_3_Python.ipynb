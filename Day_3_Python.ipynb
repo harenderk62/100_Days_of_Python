{
  "nbformat": 4,
  "nbformat_minor": 0,
  "metadata": {
    "colab": {
      "name": "Day_3_Python.ipynb",
      "provenance": [],
      "collapsed_sections": [],
      "authorship_tag": "ABX9TyOW/xG7wm1AQ5u75F9f1Qhl",
      "include_colab_link": true
    },
    "kernelspec": {
      "name": "python3",
      "display_name": "Python 3"
    },
    "language_info": {
      "name": "python"
    }
  },
  "cells": [
    {
      "cell_type": "markdown",
      "metadata": {
        "id": "view-in-github",
        "colab_type": "text"
      },
      "source": [
        "<a href=\"https://colab.research.google.com/github/harenderk62/100_Days_of_Python/blob/main/Day_3_Python.ipynb\" target=\"_parent\"><img src=\"https://colab.research.google.com/assets/colab-badge.svg\" alt=\"Open In Colab\"/></a>"
      ]
    },
    {
      "cell_type": "code",
      "metadata": {
        "colab": {
          "base_uri": "https://localhost:8080/"
        },
        "id": "HdGdVDyYjiB8",
        "outputId": "fcdd5593-b3b8-4420-dbf9-2d449ce616dc"
      },
      "source": [
        "#if else\n",
        "print(\"Welcome to the Rollercoaster!\")\n",
        "height = int(input(\"Enter your height in cm? \"))\n",
        "\n",
        "if height >= 120:\n",
        "  print(\"You can Ride!\")\n",
        "else:\n",
        "  print(\"You are not allowed!!!\")"
      ],
      "execution_count": null,
      "outputs": [
        {
          "output_type": "stream",
          "name": "stdout",
          "text": [
            "Welcome to the Rollercoaster!\n",
            "Enter your height in cm? 50\n",
            "You are not allowed!!!\n"
          ]
        }
      ]
    },
    {
      "cell_type": "code",
      "metadata": {
        "colab": {
          "base_uri": "https://localhost:8080/"
        },
        "id": "cr8Mn0B7lVB1",
        "outputId": "f3b2d387-1f87-43e6-e1d3-24b4071f845f"
      },
      "source": [
        "#Assignment\n",
        "#odd or even number\n",
        "\n",
        "number = int(input(\"Enter any number: \"))\n",
        "\n",
        "if number%2 == 0:\n",
        "  print(f\"{number} is Even Number\")\n",
        "else:\n",
        "  print(f\"{number} is Odd Number\")"
      ],
      "execution_count": null,
      "outputs": [
        {
          "output_type": "stream",
          "name": "stdout",
          "text": [
            "Enter any number: 3\n",
            "3 is Odd Number\n"
          ]
        }
      ]
    },
    {
      "cell_type": "code",
      "metadata": {
        "colab": {
          "base_uri": "https://localhost:8080/"
        },
        "id": "BLuJACnXl_f0",
        "outputId": "cfb488f3-3c07-4d71-e8b9-16a87aaa7262"
      },
      "source": [
        "# Nested IF-ELSE\n",
        "\n",
        "print(\"Welcome to the Rollercoaster!\")\n",
        "height = int(input(\"Enter your height in cm? \"))\n",
        "age = int(input(\"Enter your Age: \"))\n",
        "\n",
        "if height >= 120:\n",
        "  # print(\"You can Ride!\")\n",
        "  if age<12:\n",
        "    print(\"Please pay $5.\")\n",
        "  elif age>=12 and age<=18:\n",
        "    print(\"Please pay $7.\")\n",
        "  else:\n",
        "    print(\"Please pay $12.\")\n",
        "else:\n",
        "  print(\"You are not allowed!!!\")"
      ],
      "execution_count": null,
      "outputs": [
        {
          "output_type": "stream",
          "name": "stdout",
          "text": [
            "Welcome to the Rollercoaster!\n",
            "Enter your height in cm? 156\n",
            "Enter your Age: 14\n",
            "Please pay $7.\n"
          ]
        }
      ]
    },
    {
      "cell_type": "code",
      "metadata": {
        "colab": {
          "base_uri": "https://localhost:8080/"
        },
        "id": "TSHs8RlInju4",
        "outputId": "c910ee15-02f6-4e4d-88f1-084a2d416c11"
      },
      "source": [
        "#Assignment\n",
        "# BMI Calculator 2.0\n",
        "\n",
        "height = float(input(\"Please enter you height in m: \"))\n",
        "weight = int(input(\"Please enter you weight in KG: \"))\n",
        "\n",
        "BMI = round(weight/height**2)\n",
        "\n",
        "if BMI <=18.5:\n",
        "  print(f\" your BMI is {BMI} and you are Underweight\")\n",
        "\n",
        "elif BMI>18.5 and BMI<=25:\n",
        "  print(f\" your BMI is {BMI} and you are Normal Weight\")\n",
        "\n",
        "elif BMI>25 and BMI <= 30:\n",
        "  print(f\" your BMI is {BMI} and you are Overweight\")\n",
        "\n",
        "elif BMI > 30 and BMI <=35:\n",
        "  print(f\" your BMI is {BMI} and you are Obese\")\n",
        "\n",
        "else:\n",
        "  print(f\" your BMI is {BMI} and you are Clinically Obese\")"
      ],
      "execution_count": null,
      "outputs": [
        {
          "output_type": "stream",
          "name": "stdout",
          "text": [
            "Please enter you height in m: 1.7\n",
            "Please enter you weight in KG: 75\n",
            " your BMI is 26 and you are Overweight\n"
          ]
        }
      ]
    },
    {
      "cell_type": "code",
      "metadata": {
        "colab": {
          "base_uri": "https://localhost:8080/"
        },
        "id": "Php2Vx5YpU4D",
        "outputId": "bbabf0c0-6913-43b3-ed5a-b5cd99531a11"
      },
      "source": [
        "# Assignment\n",
        "# Leap Year\n",
        "\n",
        "year = int(input(\"Enter Any Year: \"))\n",
        "\n",
        "if year%4 == 0:\n",
        "  if year%100 == 0:\n",
        "    if year % 400 == 0:\n",
        "      print(f\"{year} is a leap year.\")\n",
        "    else:\n",
        "      print(f\"{year} is not a leap year.\")\n",
        "  else:\n",
        "    print(f\"{year} is a leap year.\")\n",
        "else:\n",
        "  print(f\"{year} is not a leap year.\")"
      ],
      "execution_count": null,
      "outputs": [
        {
          "output_type": "stream",
          "name": "stdout",
          "text": [
            "Enter Any Year: 2020\n",
            "2020 is a leap year.\n"
          ]
        }
      ]
    },
    {
      "cell_type": "code",
      "metadata": {
        "id": "5O6Qrw5iyggB",
        "colab": {
          "base_uri": "https://localhost:8080/"
        },
        "outputId": "12ee7a93-41a0-49a9-97eb-0107d0b92844"
      },
      "source": [
        "#  Assignment\n",
        "# Pizza Order\n",
        "\n",
        "print(\"Wecome to Python Pizza Deliveries!\")\n",
        "size = input(\"What size pizza do you want? S,M or L:  \")\n",
        "add_pepperoni = input(\"Do you want pepperoni? Y or N:  \")\n",
        "extra_cheese = input(\"Do you want extra cheese? Y or N:  \")\n",
        "\n",
        "amount = 0\n",
        "if size ==\"S\":\n",
        "  amount = 15\n",
        "  if add_pepperoni == \"Y\":\n",
        "    amount +=2\n",
        "  if extra_cheese == \"Y\":\n",
        "    amount+=1\n",
        "  print(f\"You have to pay ${amount} for your order\")\n",
        "elif size == \"M\":\n",
        "  amount = 20\n",
        "  if add_pepperoni == \"Y\":\n",
        "    amount +=3\n",
        "  if extra_cheese == \"Y\":\n",
        "    amount+=1\n",
        "  print(f\"You have to pay ${amount} for your order\")\n",
        "elif size == \"L\":\n",
        "  amount = 25\n",
        "  if add_pepperoni == \"Y\":\n",
        "    amount +=3\n",
        "  if extra_cheese == \"Y\":\n",
        "    amount+=1\n",
        "  print(f\"You have to pay ${amount} for your order\")\n",
        "else:\n",
        "  print(\"Enter Valid input!!!\")"
      ],
      "execution_count": 3,
      "outputs": [
        {
          "output_type": "stream",
          "name": "stdout",
          "text": [
            "Wecome to Python Pizza Deliveries!\n",
            "What size pizza do you want? S,M or L:  L\n",
            "Do you want pepperoni? Y or N:  N\n",
            "Do you want extra cheese? Y or N:  N\n",
            "You have to pay $25 for your order\n"
          ]
        }
      ]
    },
    {
      "cell_type": "code",
      "metadata": {
        "colab": {
          "base_uri": "https://localhost:8080/"
        },
        "id": "8xTT6rj4G85z",
        "outputId": "356fdaba-c182-41eb-9eec-690b0cb66420"
      },
      "source": [
        "# Assignment\n",
        "# Love Calculator\n",
        "\n",
        "print(\"Welcome to the Love Calculator!\\n\")\n",
        "name1 = input(\"Enter your name: \\n\")\n",
        "name2 = input(\"Enter her/his name: \\n\")\n",
        "name1 = name1.lower()\n",
        "name2 = name2.lower()\n",
        "\n",
        "True_count = 0\n",
        "Love_count = 0\n",
        "\n",
        "if name1.count(\"t\")>0 or name2.count(\"t\")>0:\n",
        "  True_count += name1.count(\"t\")\n",
        "  True_count += name2.count(\"t\")\n",
        "if name1.count(\"r\")>0 or name2.count(\"r\")>0:\n",
        "  True_count += name1.count(\"r\")\n",
        "  True_count += name2.count(\"r\")\n",
        "if name1.count(\"u\")>0 or name2.count(\"u\")>0:\n",
        "  True_count += name1.count(\"u\")\n",
        "  True_count += name2.count(\"u\")\n",
        "if name1.count(\"e\")>0 or name2.count(\"e\")>0:\n",
        "  True_count += name1.count(\"e\")\n",
        "  True_count += name2.count(\"e\")\n",
        "\n",
        "if name2.count(\"l\")>0 or name1.count(\"l\")>0:\n",
        "  Love_count += name2.count(\"l\")\n",
        "  Love_count += name1.count(\"l\")\n",
        "if name2.count(\"o\")>0 or name1.count(\"o\")>0:\n",
        "  Love_count += name2.count(\"o\")\n",
        "  Love_count += name1.count(\"o\")\n",
        "if name2.count(\"v\")>0 or name1.count(\"v\")>0:\n",
        "  Love_count += name2.count(\"v\")\n",
        "  Love_count += name1.count(\"v\")\n",
        "if name2.count(\"e\")>0 or name1.count(\"e\")>0:\n",
        "  Love_count += name2.count(\"e\")\n",
        "  Love_count += name1.count(\"e\")\n",
        "\n",
        "percentage = str(True_count) + str(Love_count)\n",
        "\n",
        "print(f\"Your Love percentage is {percentage}%\")"
      ],
      "execution_count": 9,
      "outputs": [
        {
          "output_type": "stream",
          "name": "stdout",
          "text": [
            "Welcome to the Love Calculator!\n",
            "\n",
            "Enter your name: \n",
            "Angila yu\n",
            "Enter her/his name: \n",
            "Jhon yung\n",
            "Your Love percentage is 22%\n"
          ]
        }
      ]
    },
    {
      "cell_type": "code",
      "metadata": {
        "colab": {
          "base_uri": "https://localhost:8080/"
        },
        "id": "XkDyWYB1QJPH",
        "outputId": "d8169d26-6cfd-443b-d2c2-893e7cca5be8"
      },
      "source": [
        "# Assignment\n",
        "# Love Calculator\n",
        "\n",
        "print(\"Welcome to the Love Calculator!\\n\")\n",
        "name1 = input(\"Enter your name: \\n\")\n",
        "name2 = input(\"Enter her/his name: \\n\")\n",
        "\n",
        "combined_names = name1.lower() + name2.lower()\n",
        "t= combined_names.count(\"t\")\n",
        "r= combined_names.count(\"r\")\n",
        "u= combined_names.count(\"u\")\n",
        "e= combined_names.count(\"e\")\n",
        "\n",
        "true  = t+r+u+e\n",
        "\n",
        "l= combined_names.count(\"l\")\n",
        "o= combined_names.count(\"o\")\n",
        "v= combined_names.count(\"v\")\n",
        "e= combined_names.count(\"e\")\n",
        "\n",
        "love = l+o+v+e\n",
        "\n",
        "percentage = str(true) + str(love)\n",
        "\n",
        "print(f\"Your Love Percentage is {percentage}\")"
      ],
      "execution_count": 11,
      "outputs": [
        {
          "output_type": "stream",
          "name": "stdout",
          "text": [
            "Welcome to the Love Calculator!\n",
            "\n",
            "Enter your name: \n",
            "jhon\n",
            "Enter her/his name: \n",
            "julia\n",
            "Your Love Percentage is 12\n"
          ]
        }
      ]
    },
    {
      "cell_type": "code",
      "metadata": {
        "colab": {
          "base_uri": "https://localhost:8080/"
        },
        "id": "PdEyHA_xVo_b",
        "outputId": "4e3ca26f-410e-496a-ec77-1542586a3ac8"
      },
      "source": [
        "# Project\n",
        "# Treasure Island\n",
        "print('''*******************************************************************************\n",
        "          |                   |                  |                     |\n",
        " _________|________________.=\"\"_;=.______________|_____________________|_______\n",
        "|                   |  ,-\"_,=\"\"     `\"=.|                  |\n",
        "|___________________|__\"=._o`\"-._        `\"=.______________|___________________\n",
        "          |                `\"=._o`\"=._      _`\"=._                     |\n",
        " _________|_____________________:=._o \"=._.\"_.-=\"'\"=.__________________|_______\n",
        "|                   |    __.--\" , ; `\"=._o.\" ,-\"\"\"-._ \".   |\n",
        "|___________________|_._\"  ,. .` ` `` ,  `\"-._\"-._   \". '__|___________________\n",
        "          |           |o`\"=._` , \"` `; .\". ,  \"-._\"-._; ;              |\n",
        " _________|___________| ;`-.o`\"=._; .\" ` '`.\"\\` . \"-._ /_______________|_______\n",
        "|                   | |o;    `\"-.o`\"=._``  '` \" ,__.--o;   |\n",
        "|___________________|_| ;     (#) `-.o `\"=.`_.--\"_o.-; ;___|___________________\n",
        "____/______/______/___|o;._    \"      `\".o|o_.--\"    ;o;____/______/______/____\n",
        "/______/______/______/_\"=._o--._        ; | ;        ; ;/______/______/______/_\n",
        "____/______/______/______/__\"=._o--._   ;o|o;     _._;o;____/______/______/____\n",
        "/______/______/______/______/____\"=._o._; | ;_.--\"o.--\"_/______/______/______/_\n",
        "____/______/______/______/______/_____\"=.o|o_.--\"\"___/______/______/______/____\n",
        "/______/______/______/______/______/______/______/______/______/______/[TomekK]\n",
        "*******************************************************************************''')\n",
        "\n",
        "print(\"Welcome to Treasure Island. Your Mission is to find the treasure...\")\n",
        "path = input(\"You came across the cross road. Where do you want to go? Left or Right: \")\n",
        "if path.lower() == \"left\":\n",
        "  print(\"you choose the right path.\\n\")\n",
        "  water = input(\"stop!!! you came across the river. Do you want to swim or wait for the boat?\\n \")\n",
        "  if water.lower() == \"swim\":\n",
        "    print(\"you are eaten by the monsters. Game Over\")\n",
        "  else:\n",
        "    print(\"Yeah you safely cross the river.\\n\")\n",
        "    print(\"Finally You have reach the castle.\\n\")\n",
        "    door = input(\"Oh oou, there are 3 doors in front of you. Red,Yellow and Blue. Which one you want to choose?\")\n",
        "    if door.lower() == \"red\":\n",
        "      print(\"Wrong door!!! Game Over\")\n",
        "    elif door.lower() == \"yellow\":\n",
        "      print(\"yeah you got the treasure\")\n",
        "    else:\n",
        "      print(\"Wrong door!!! Game Over\")\n",
        "else:\n",
        "  print(\"Game Over\")"
      ],
      "execution_count": 13,
      "outputs": [
        {
          "output_type": "stream",
          "name": "stdout",
          "text": [
            "*******************************************************************************\n",
            "          |                   |                  |                     |\n",
            " _________|________________.=\"\"_;=.______________|_____________________|_______\n",
            "|                   |  ,-\"_,=\"\"     `\"=.|                  |\n",
            "|___________________|__\"=._o`\"-._        `\"=.______________|___________________\n",
            "          |                `\"=._o`\"=._      _`\"=._                     |\n",
            " _________|_____________________:=._o \"=._.\"_.-=\"'\"=.__________________|_______\n",
            "|                   |    __.--\" , ; `\"=._o.\" ,-\"\"\"-._ \".   |\n",
            "|___________________|_._\"  ,. .` ` `` ,  `\"-._\"-._   \". '__|___________________\n",
            "          |           |o`\"=._` , \"` `; .\". ,  \"-._\"-._; ;              |\n",
            " _________|___________| ;`-.o`\"=._; .\" ` '`.\"\\` . \"-._ /_______________|_______\n",
            "|                   | |o;    `\"-.o`\"=._``  '` \" ,__.--o;   |\n",
            "|___________________|_| ;     (#) `-.o `\"=.`_.--\"_o.-; ;___|___________________\n",
            "____/______/______/___|o;._    \"      `\".o|o_.--\"    ;o;____/______/______/____\n",
            "/______/______/______/_\"=._o--._        ; | ;        ; ;/______/______/______/_\n",
            "____/______/______/______/__\"=._o--._   ;o|o;     _._;o;____/______/______/____\n",
            "/______/______/______/______/____\"=._o._; | ;_.--\"o.--\"_/______/______/______/_\n",
            "____/______/______/______/______/_____\"=.o|o_.--\"\"___/______/______/______/____\n",
            "/______/______/______/______/______/______/______/______/______/______/[TomekK]\n",
            "*******************************************************************************\n",
            "Welcome to Treasure Island. Your Mission is to find the treasure...\n",
            "You came across the cross road. Where do you want to go? Left or Right: Left\n",
            "you choose the right path.\n",
            "\n",
            "stop!!! you came across the river. Do you want to swim or wait for the boat?\n",
            " swim\n",
            "you are eaten by the monsters. Game Over\n"
          ]
        }
      ]
    }
  ]
}