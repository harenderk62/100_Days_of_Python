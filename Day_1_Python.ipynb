{
  "nbformat": 4,
  "nbformat_minor": 0,
  "metadata": {
    "colab": {
      "name": "Day_1_Python.ipynb",
      "provenance": [],
      "authorship_tag": "ABX9TyNyoLRQ0k4A6NibXE3MC/0H",
      "include_colab_link": true
    },
    "kernelspec": {
      "name": "python3",
      "display_name": "Python 3"
    },
    "language_info": {
      "name": "python"
    }
  },
  "cells": [
    {
      "cell_type": "markdown",
      "metadata": {
        "id": "view-in-github",
        "colab_type": "text"
      },
      "source": [
        "<a href=\"https://colab.research.google.com/github/harenderk62/100_Days_of_Python/blob/main/Day_1_Python.ipynb\" target=\"_parent\"><img src=\"https://colab.research.google.com/assets/colab-badge.svg\" alt=\"Open In Colab\"/></a>"
      ]
    },
    {
      "cell_type": "code",
      "metadata": {
        "colab": {
          "base_uri": "https://localhost:8080/"
        },
        "id": "Kw27Q7jZC_pz",
        "outputId": "f09e3b4e-a815-42e9-fb5b-fb2740957251"
      },
      "source": [
        "name = input(\"Enter your name: \")\n",
        "print(name)\n",
        "\n",
        "name = \"Jack\"\n",
        "print(name)\n",
        "\n",
        "name = \"Harender\"\n",
        "print(name)"
      ],
      "execution_count": 2,
      "outputs": [
        {
          "output_type": "stream",
          "name": "stdout",
          "text": [
            "Enter your name: Ravi\n",
            "Ravi\n",
            "Jack\n",
            "Harender\n"
          ]
        }
      ]
    },
    {
      "cell_type": "code",
      "metadata": {
        "colab": {
          "base_uri": "https://localhost:8080/"
        },
        "id": "w-u_Az36DZ_m",
        "outputId": "36a169d7-ed17-4766-de73-83e3e0522fed"
      },
      "source": [
        "name = input(\"Enter your name: \")\n",
        "print(name)\n",
        "print(len(name))"
      ],
      "execution_count": 4,
      "outputs": [
        {
          "output_type": "stream",
          "name": "stdout",
          "text": [
            "Enter your name: Harender\n",
            "Harender\n",
            "8\n"
          ]
        }
      ]
    },
    {
      "cell_type": "code",
      "metadata": {
        "colab": {
          "base_uri": "https://localhost:8080/"
        },
        "id": "0CjuS-CcD1ap",
        "outputId": "2320cc2d-e435-4609-dfd9-23435d7a2fd5"
      },
      "source": [
        "#Assignment 1\n",
        "a = input(\"a: \")\n",
        "b = input(\"b: \")\n",
        "temp = a\n",
        "a= b\n",
        "b= temp\n",
        "print(\"a: \",a)\n",
        "print(\"b: \",b)"
      ],
      "execution_count": 3,
      "outputs": [
        {
          "output_type": "stream",
          "name": "stdout",
          "text": [
            "a: 21\n",
            "b: 31\n",
            "a:  31\n",
            "b:  21\n"
          ]
        }
      ]
    },
    {
      "cell_type": "code",
      "metadata": {
        "colab": {
          "base_uri": "https://localhost:8080/"
        },
        "id": "QkxNOmIQG4LN",
        "outputId": "af907f9d-d8b3-432c-df68-6d712a344de6"
      },
      "source": [
        "#Day 1 Project: Band name Generator\n",
        "print(\"Welcome to Brand Name Generator\")\n",
        "print(\"Enter your City Name: \")\n",
        "city = input()\n",
        "print(\"Enter your Pet Name: \")\n",
        "pet_name = input()\n",
        "print(\"\\nYour Band Name is: \"+ city + \" \" + pet_name)"
      ],
      "execution_count": 9,
      "outputs": [
        {
          "output_type": "stream",
          "name": "stdout",
          "text": [
            "Welcome to Brand Name Generator\n",
            "Enter your City Name: \n",
            "Hazaribagh\n",
            "Enter your Pet Name: \n",
            "Noobi\n",
            "\n",
            "Your Band Name is: Hazaribagh Noobi\n"
          ]
        }
      ]
    }
  ]
}